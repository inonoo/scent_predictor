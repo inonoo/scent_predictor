{
 "cells": [
  {
   "cell_type": "code",
   "execution_count": 12,
   "metadata": {},
   "outputs": [],
   "source": [
    "import numpy as np\n",
    "import fasttext as ft\n",
    "import pandas as pd\n",
    "import re\n",
    "from sklearn.model_selection import train_test_split"
   ]
  },
  {
   "cell_type": "code",
   "execution_count": 13,
   "metadata": {},
   "outputs": [
    {
     "data": {
      "text/html": [
       "<div>\n",
       "<style scoped>\n",
       "    .dataframe tbody tr th:only-of-type {\n",
       "        vertical-align: middle;\n",
       "    }\n",
       "\n",
       "    .dataframe tbody tr th {\n",
       "        vertical-align: top;\n",
       "    }\n",
       "\n",
       "    .dataframe thead th {\n",
       "        text-align: right;\n",
       "    }\n",
       "</style>\n",
       "<table border=\"1\" class=\"dataframe\">\n",
       "  <thead>\n",
       "    <tr style=\"text-align: right;\">\n",
       "      <th></th>\n",
       "      <th>base_note</th>\n",
       "      <th>scents</th>\n",
       "    </tr>\n",
       "  </thead>\n",
       "  <tbody>\n",
       "    <tr>\n",
       "      <th>0</th>\n",
       "      <td>Oakmoss, Patchouli, Vetiver</td>\n",
       "      <td>Woody</td>\n",
       "    </tr>\n",
       "    <tr>\n",
       "      <th>1</th>\n",
       "      <td>Vanilla, Sandalwood, Patchouli</td>\n",
       "      <td>Floral</td>\n",
       "    </tr>\n",
       "    <tr>\n",
       "      <th>2</th>\n",
       "      <td>Lemon, Mint, Wood Moss</td>\n",
       "      <td>Arabian</td>\n",
       "    </tr>\n",
       "    <tr>\n",
       "      <th>3</th>\n",
       "      <td>Cashmere Wood, Moss, Rippled Sand Accord</td>\n",
       "      <td>Spicy</td>\n",
       "    </tr>\n",
       "    <tr>\n",
       "      <th>4</th>\n",
       "      <td>Vanille, Benzoin, Tonka Bean</td>\n",
       "      <td>Arabian</td>\n",
       "    </tr>\n",
       "    <tr>\n",
       "      <th>...</th>\n",
       "      <td>...</td>\n",
       "      <td>...</td>\n",
       "    </tr>\n",
       "    <tr>\n",
       "      <th>998</th>\n",
       "      <td>Coconut Accords, Wood, Musk</td>\n",
       "      <td>Citrus</td>\n",
       "    </tr>\n",
       "    <tr>\n",
       "      <th>999</th>\n",
       "      <td>Musk, Vanilla</td>\n",
       "      <td>Fruity</td>\n",
       "    </tr>\n",
       "    <tr>\n",
       "      <th>1000</th>\n",
       "      <td>Musk, Amber, Wood</td>\n",
       "      <td>Woody</td>\n",
       "    </tr>\n",
       "    <tr>\n",
       "      <th>1001</th>\n",
       "      <td>Agarwood, Amber</td>\n",
       "      <td>Arabian</td>\n",
       "    </tr>\n",
       "    <tr>\n",
       "      <th>1002</th>\n",
       "      <td>Virginia Cedar, Leather, Suede, Vetiver</td>\n",
       "      <td>Woody</td>\n",
       "    </tr>\n",
       "  </tbody>\n",
       "</table>\n",
       "<p>1003 rows × 2 columns</p>\n",
       "</div>"
      ],
      "text/plain": [
       "                                     base_note   scents\n",
       "0                  Oakmoss, Patchouli, Vetiver    Woody\n",
       "1               Vanilla, Sandalwood, Patchouli   Floral\n",
       "2                       Lemon, Mint, Wood Moss  Arabian\n",
       "3     Cashmere Wood, Moss, Rippled Sand Accord    Spicy\n",
       "4                 Vanille, Benzoin, Tonka Bean  Arabian\n",
       "...                                        ...      ...\n",
       "998                Coconut Accords, Wood, Musk   Citrus\n",
       "999                              Musk, Vanilla   Fruity\n",
       "1000                         Musk, Amber, Wood    Woody\n",
       "1001                           Agarwood, Amber  Arabian\n",
       "1002   Virginia Cedar, Leather, Suede, Vetiver    Woody\n",
       "\n",
       "[1003 rows x 2 columns]"
      ]
     },
     "execution_count": 13,
     "metadata": {},
     "output_type": "execute_result"
    }
   ],
   "source": [
    "perfume_df = pd.read_csv(\"/Users/rura/Desktop/INONO/noon_perfumes_dataset.csv\")\n",
    "scent = perfume_df[[\"base_note\", \"scents\"]]\n",
    "scent"
   ]
  },
  {
   "cell_type": "code",
   "execution_count": 14,
   "metadata": {},
   "outputs": [
    {
     "name": "stdout",
     "output_type": "stream",
     "text": [
      "<class 'pandas.core.frame.DataFrame'>\n",
      "RangeIndex: 1003 entries, 0 to 1002\n",
      "Data columns (total 2 columns):\n",
      " #   Column     Non-Null Count  Dtype \n",
      "---  ------     --------------  ----- \n",
      " 0   base_note  1003 non-null   object\n",
      " 1   scents     1003 non-null   object\n",
      "dtypes: object(2)\n",
      "memory usage: 15.8+ KB\n"
     ]
    }
   ],
   "source": [
    "scent.info()"
   ]
  },
  {
   "cell_type": "code",
   "execution_count": 15,
   "metadata": {},
   "outputs": [
    {
     "name": "stdout",
     "output_type": "stream",
     "text": [
      "Woody : 0\n",
      "Floral : 1\n",
      "Arabian : 2\n",
      "Spicy : 3\n",
      "Oriental : 4\n",
      "Fruity : 5\n",
      "Fresh : 6\n",
      "Citrus : 7\n",
      "Vanilla : 8\n",
      "Musk : 9\n",
      "Oriental, Floral : 10\n",
      "Sweet Aromatic : 11\n",
      "Aromatic : 12\n",
      "Woody, Sweet : 13\n",
      "Aromatic,Citrus : 14\n",
      "Clean : 15\n",
      "Woody, Musky : 16\n",
      "Floral and Oriental : 17\n",
      "Jasmine : 18\n",
      "Woody And Spicy : 19\n",
      "Rose, Floral : 20\n",
      "Sandalwood : 21\n"
     ]
    }
   ],
   "source": [
    "#map categories into numbers by getting unique scent categories\n",
    "scent_category = scent['scents'].unique()\n",
    "\n",
    "#make dictionary of the category mappings\n",
    "dict_map = {}\n",
    "for x in range(len(scent_category)):\n",
    "    dict_map[scent_category[x]] = x\n",
    "\n",
    "for x in dict_map:\n",
    "    print(x, \":\", dict_map[x])"
   ]
  },
  {
   "cell_type": "code",
   "execution_count": 16,
   "metadata": {},
   "outputs": [
    {
     "data": {
      "text/html": [
       "<div>\n",
       "<style scoped>\n",
       "    .dataframe tbody tr th:only-of-type {\n",
       "        vertical-align: middle;\n",
       "    }\n",
       "\n",
       "    .dataframe tbody tr th {\n",
       "        vertical-align: top;\n",
       "    }\n",
       "\n",
       "    .dataframe thead th {\n",
       "        text-align: right;\n",
       "    }\n",
       "</style>\n",
       "<table border=\"1\" class=\"dataframe\">\n",
       "  <thead>\n",
       "    <tr style=\"text-align: right;\">\n",
       "      <th></th>\n",
       "      <th>base_note</th>\n",
       "      <th>category_index</th>\n",
       "    </tr>\n",
       "  </thead>\n",
       "  <tbody>\n",
       "    <tr>\n",
       "      <th>0</th>\n",
       "      <td>Oakmoss, Patchouli, Vetiver</td>\n",
       "      <td>0</td>\n",
       "    </tr>\n",
       "    <tr>\n",
       "      <th>1</th>\n",
       "      <td>Vanilla, Sandalwood, Patchouli</td>\n",
       "      <td>1</td>\n",
       "    </tr>\n",
       "    <tr>\n",
       "      <th>2</th>\n",
       "      <td>Lemon, Mint, Wood Moss</td>\n",
       "      <td>2</td>\n",
       "    </tr>\n",
       "    <tr>\n",
       "      <th>3</th>\n",
       "      <td>Cashmere Wood, Moss, Rippled Sand Accord</td>\n",
       "      <td>3</td>\n",
       "    </tr>\n",
       "    <tr>\n",
       "      <th>4</th>\n",
       "      <td>Vanille, Benzoin, Tonka Bean</td>\n",
       "      <td>2</td>\n",
       "    </tr>\n",
       "    <tr>\n",
       "      <th>5</th>\n",
       "      <td>Vanille, Benzoin, Tonka Bean</td>\n",
       "      <td>2</td>\n",
       "    </tr>\n",
       "    <tr>\n",
       "      <th>6</th>\n",
       "      <td>Roasted Cocoa</td>\n",
       "      <td>4</td>\n",
       "    </tr>\n",
       "    <tr>\n",
       "      <th>7</th>\n",
       "      <td>Labdanum, Musk</td>\n",
       "      <td>5</td>\n",
       "    </tr>\n",
       "    <tr>\n",
       "      <th>8</th>\n",
       "      <td>Sandalwood</td>\n",
       "      <td>1</td>\n",
       "    </tr>\n",
       "    <tr>\n",
       "      <th>9</th>\n",
       "      <td>Cistus, Myrrh, Oud, Amber</td>\n",
       "      <td>2</td>\n",
       "    </tr>\n",
       "  </tbody>\n",
       "</table>\n",
       "</div>"
      ],
      "text/plain": [
       "                                  base_note  category_index\n",
       "0               Oakmoss, Patchouli, Vetiver               0\n",
       "1            Vanilla, Sandalwood, Patchouli               1\n",
       "2                    Lemon, Mint, Wood Moss               2\n",
       "3  Cashmere Wood, Moss, Rippled Sand Accord               3\n",
       "4              Vanille, Benzoin, Tonka Bean               2\n",
       "5              Vanille, Benzoin, Tonka Bean               2\n",
       "6                             Roasted Cocoa               4\n",
       "7                            Labdanum, Musk               5\n",
       "8                                Sandalwood               1\n",
       "9                 Cistus, Myrrh, Oud, Amber               2"
      ]
     },
     "execution_count": 16,
     "metadata": {},
     "output_type": "execute_result"
    }
   ],
   "source": [
    "#new dataframe with all the data with an numerical category column\n",
    "df_index = scent.copy()\n",
    "df_index[\"category_index\"] = scent.scents.map(dict_map)\n",
    "\n",
    "#new dataframe with only product_title and category_index\n",
    "df = df_index[['base_note', 'category_index']]\n",
    "df.head(10)\n"
   ]
  },
  {
   "cell_type": "code",
   "execution_count": 17,
   "metadata": {},
   "outputs": [
    {
     "data": {
      "text/html": [
       "<div>\n",
       "<style scoped>\n",
       "    .dataframe tbody tr th:only-of-type {\n",
       "        vertical-align: middle;\n",
       "    }\n",
       "\n",
       "    .dataframe tbody tr th {\n",
       "        vertical-align: top;\n",
       "    }\n",
       "\n",
       "    .dataframe thead th {\n",
       "        text-align: right;\n",
       "    }\n",
       "</style>\n",
       "<table border=\"1\" class=\"dataframe\">\n",
       "  <thead>\n",
       "    <tr style=\"text-align: right;\">\n",
       "      <th></th>\n",
       "      <th>base_note</th>\n",
       "      <th>category_index</th>\n",
       "    </tr>\n",
       "  </thead>\n",
       "  <tbody>\n",
       "    <tr>\n",
       "      <th>0</th>\n",
       "      <td>Oakmoss, Patchouli, Vetiver</td>\n",
       "      <td>__label__0</td>\n",
       "    </tr>\n",
       "    <tr>\n",
       "      <th>1</th>\n",
       "      <td>Vanilla, Sandalwood, Patchouli</td>\n",
       "      <td>__label__1</td>\n",
       "    </tr>\n",
       "    <tr>\n",
       "      <th>2</th>\n",
       "      <td>Lemon, Mint, Wood Moss</td>\n",
       "      <td>__label__2</td>\n",
       "    </tr>\n",
       "    <tr>\n",
       "      <th>3</th>\n",
       "      <td>Cashmere Wood, Moss, Rippled Sand Accord</td>\n",
       "      <td>__label__3</td>\n",
       "    </tr>\n",
       "    <tr>\n",
       "      <th>4</th>\n",
       "      <td>Vanille, Benzoin, Tonka Bean</td>\n",
       "      <td>__label__2</td>\n",
       "    </tr>\n",
       "  </tbody>\n",
       "</table>\n",
       "</div>"
      ],
      "text/plain": [
       "                                  base_note category_index\n",
       "0               Oakmoss, Patchouli, Vetiver     __label__0\n",
       "1            Vanilla, Sandalwood, Patchouli     __label__1\n",
       "2                    Lemon, Mint, Wood Moss     __label__2\n",
       "3  Cashmere Wood, Moss, Rippled Sand Accord     __label__3\n",
       "4              Vanille, Benzoin, Tonka Bean     __label__2"
      ]
     },
     "execution_count": 17,
     "metadata": {},
     "output_type": "execute_result"
    }
   ],
   "source": [
    "## using fasttext\n",
    "#add __label__ in front of the labels for fastText to read\n",
    "#df.iloc[:,1] #select category column\n",
    "df_labeled = df.copy()\n",
    "df_labeled['category_index'] = '__label__' + df_labeled['category_index'].astype(str)\n",
    "df_labeled.head()"
   ]
  },
  {
   "cell_type": "code",
   "execution_count": 18,
   "metadata": {},
   "outputs": [
    {
     "name": "stdout",
     "output_type": "stream",
     "text": [
      "0                  __label__0 Oakmoss, Patchouli, Vetiver\n",
      "1               __label__1 Vanilla, Sandalwood, Patchouli\n",
      "2                       __label__2 Lemon, Mint, Wood Moss\n",
      "3       __label__3 Cashmere Wood, Moss, Rippled Sand A...\n",
      "4                 __label__2 Vanille, Benzoin, Tonka Bean\n",
      "                              ...                        \n",
      "998                __label__7 Coconut Accords, Wood, Musk\n",
      "999                              __label__5 Musk, Vanilla\n",
      "1000                         __label__0 Musk, Amber, Wood\n",
      "1001                           __label__2 Agarwood, Amber\n",
      "1002    __label__0 Virginia Cedar, Leather, Suede, Vet...\n",
      "Length: 1003, dtype: object\n"
     ]
    }
   ],
   "source": [
    "#put category and product_title together\n",
    "category_prod = df_labeled['category_index'] + \" \" + df_labeled['base_note']\n",
    "print(category_prod)"
   ]
  },
  {
   "cell_type": "code",
   "execution_count": 19,
   "metadata": {},
   "outputs": [
    {
     "name": "stdout",
     "output_type": "stream",
     "text": [
      "1003\n",
      "0\n",
      "1003\n"
     ]
    }
   ],
   "source": [
    "## GET RID OF LINES THAT DON'T START WITH __LABEL__\n",
    "print(len(category_prod))\n",
    "count = 0\n",
    "for line in range(len(category_prod)-1, -1, -1):\n",
    "    match = re.search(r'\\d\\d\\d\\d\\d\\d\\d\\d\\d\\d', category_prod[line])\n",
    "    try:\n",
    "        if not match.group() == \"\":\n",
    "            category_prod = category_prod.drop(line)\n",
    "            count+=1\n",
    "    except:\n",
    "        count += 0\n",
    "print(count)\n",
    "print(len(category_prod))"
   ]
  },
  {
   "cell_type": "markdown",
   "metadata": {},
   "source": [
    "There is no product without a label"
   ]
  },
  {
   "cell_type": "code",
   "execution_count": 24,
   "metadata": {},
   "outputs": [
    {
     "data": {
      "text/plain": [
       "0"
      ]
     },
     "execution_count": 24,
     "metadata": {},
     "output_type": "execute_result"
    }
   ],
   "source": [
    "category_prod.isna().sum()"
   ]
  },
  {
   "cell_type": "code",
   "execution_count": 25,
   "metadata": {},
   "outputs": [],
   "source": [
    "#split into train and test\n",
    "train, test = train_test_split(category_prod, test_size=0.1, train_size=0.9, random_state=42)\n",
    "#write test and train into files\n",
    "f_train = open(\"train.txt\", \"a\")\n",
    "for i in range(len(np.array(train))):\n",
    "    f_train.write(np.array(train)[i] + \"\\n\")\n",
    "f_train.close()\n",
    "\n",
    "f_test = open(\"test.txt\", \"a\")\n",
    "for i in range(len(np.array(test))):\n",
    "    f_test.write(np.array(test)[i] + \"\\n\")\n",
    "f_test.close()"
   ]
  },
  {
   "cell_type": "code",
   "execution_count": 26,
   "metadata": {},
   "outputs": [
    {
     "name": "stderr",
     "output_type": "stream",
     "text": [
      "Read 0M words\n",
      "Number of words:  485\n",
      "Number of labels: 22\n",
      "Progress: 100.0% words/sec/thread:  187424 lr:  0.000000 avg.loss:  1.918581 ETA:   0h 0m 0s\n"
     ]
    }
   ],
   "source": [
    "#train model\n",
    "model = ft.train_supervised(input=\"train.txt\")"
   ]
  },
  {
   "cell_type": "code",
   "execution_count": 27,
   "metadata": {},
   "outputs": [
    {
     "data": {
      "text/plain": [
       "(705, 0.4836879432624113, 0.4836879432624113)"
      ]
     },
     "execution_count": 27,
     "metadata": {},
     "output_type": "execute_result"
    }
   ],
   "source": [
    "#test using the model\n",
    "model.test(\"test.txt\") #(n, precision, recall)"
   ]
  }
 ],
 "metadata": {
  "kernelspec": {
   "display_name": "myenv",
   "language": "python",
   "name": "python3"
  },
  "language_info": {
   "codemirror_mode": {
    "name": "ipython",
    "version": 3
   },
   "file_extension": ".py",
   "mimetype": "text/x-python",
   "name": "python",
   "nbconvert_exporter": "python",
   "pygments_lexer": "ipython3",
   "version": "3.10.13"
  }
 },
 "nbformat": 4,
 "nbformat_minor": 2
}
